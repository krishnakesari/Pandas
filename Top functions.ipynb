{
 "cells": [
  {
   "cell_type": "code",
   "execution_count": 1,
   "metadata": {
    "collapsed": true
   },
   "outputs": [],
   "source": [
    "import numpy as np\n",
    "import pandas as pd"
   ]
  },
  {
   "cell_type": "code",
   "execution_count": 4,
   "outputs": [
    {
     "name": "stdout",
     "output_type": "stream",
     "text": [
      "Passing list of values: 0    1.0\n",
      "1    3.0\n",
      "2    5.0\n",
      "3    NaN\n",
      "4    6.0\n",
      "5    8.0\n",
      "dtype: float64\n"
     ]
    }
   ],
   "source": [
    "s = pd.Series([1,3,5, np.nan, 6, 8])\n",
    "print('Passing list of values:',s)"
   ],
   "metadata": {
    "collapsed": false,
    "pycharm": {
     "name": "#%%\n"
    }
   }
  },
  {
   "cell_type": "code",
   "execution_count": 7,
   "outputs": [
    {
     "name": "stdout",
     "output_type": "stream",
     "text": [
      "Adding 6 days with range: DatetimeIndex(['2013-01-01', '2013-01-02', '2013-01-03', '2013-01-04',\n",
      "               '2013-01-05', '2013-01-06'],\n",
      "              dtype='datetime64[ns]', freq='D')\n",
      "Passing NumPy array into Pandas:                    A         B         C         D\n",
      "2013-01-01 -0.684105 -0.446083 -0.193273 -0.218899\n",
      "2013-01-02  1.701952 -1.578945  1.193032  0.950053\n",
      "2013-01-03 -0.874834 -0.108115 -2.488084 -2.246679\n",
      "2013-01-04  0.203930  1.117985 -1.536360  2.046269\n",
      "2013-01-05 -0.945537 -0.236682  0.150494  0.044839\n",
      "2013-01-06 -0.476841  0.026294  0.129915 -0.411100\n"
     ]
    }
   ],
   "source": [
    "dates = pd.date_range('20130101', periods=6)\n",
    "print('Adding 6 days with range:',dates)\n",
    "\n",
    "df = pd.DataFrame(np.random.randn(6,4), index=dates, columns=list('ABCD'))\n",
    "print('Passing NumPy array into Pandas:', df)"
   ],
   "metadata": {
    "collapsed": false,
    "pycharm": {
     "name": "#%%\n"
    }
   }
  },
  {
   "cell_type": "code",
   "execution_count": 10,
   "outputs": [
    {
     "name": "stdout",
     "output_type": "stream",
     "text": [
      "Passing dict of objects :    A          B  C  D      E    F\n",
      "0  1 2013-01-02  1  3   test  foo\n",
      "1  1 2013-01-02  1  3  train  foo\n",
      "2  1 2013-01-02  1  3   test  foo\n",
      "3  1 2013-01-02  1  3  train  foo\n",
      "Data Types: A             int64\n",
      "B    datetime64[ns]\n",
      "C             int64\n",
      "D             int32\n",
      "E          category\n",
      "F            object\n",
      "dtype: object\n"
     ]
    }
   ],
   "source": [
    "# Creating Data Frame by passing dict objects in series\n",
    "df2 = pd.DataFrame({'A': 1,\n",
    "                    'B': pd.Timestamp('20130102'),\n",
    "                    'C': pd.Series(1,index=list(range(4))),\n",
    "                    'D': np.array([3] * 4, dtype='int32'),\n",
    "                    'E': pd.Categorical([\"test\", \"train\", \"test\", \"train\"]),\n",
    "                    'F': 'foo'})\n",
    "print('Passing dict of objects :', df2)\n",
    "\n",
    "# Data Types\n",
    "print('Data Types:',df2.dtypes)"
   ],
   "metadata": {
    "collapsed": false,
    "pycharm": {
     "name": "#%%\n"
    }
   }
  },
  {
   "cell_type": "markdown",
   "source": [
    "### Functions\n",
    "- df2.A                  df2.bool\n",
    "- df2.abs                df2.boxplot\n",
    "- df2.add                df2.C\n",
    "- df2.add_prefix         df2.clip\n",
    "- df2.add_suffix         df2.columns\n",
    "- df2.align              df2.copy\n",
    "- df2.all                df2.count\n",
    "- df2.any                df2.combine\n",
    "- df2.append             df2.D\n",
    "- df2.apply              df2.describe\n",
    "- df2.applymap           df2.diff\n",
    "- df2.B                  df2.duplicated"
   ],
   "metadata": {
    "collapsed": false,
    "pycharm": {
     "name": "#%% md\n"
    }
   }
  },
  {
   "cell_type": "code",
   "execution_count": 23,
   "outputs": [
    {
     "name": "stdout",
     "output_type": "stream",
     "text": [
      "                   A         B         C         D\n",
      "2013-01-01 -0.684105 -0.446083 -0.193273 -0.218899\n",
      "2013-01-02  1.701952 -1.578945  1.193032  0.950053\n",
      "2013-01-03 -0.874834 -0.108115 -2.488084 -2.246679\n",
      "2013-01-04  0.203930  1.117985 -1.536360  2.046269\n",
      "2013-01-05 -0.945537 -0.236682  0.150494  0.044839\n",
      "                   A         B         C         D\n",
      "2013-01-04  0.203930  1.117985 -1.536360  2.046269\n",
      "2013-01-05 -0.945537 -0.236682  0.150494  0.044839\n",
      "2013-01-06 -0.476841  0.026294  0.129915 -0.411100\n",
      "DatetimeIndex(['2013-01-01', '2013-01-02', '2013-01-03', '2013-01-04',\n",
      "               '2013-01-05', '2013-01-06'],\n",
      "              dtype='datetime64[ns]', freq='D')\n",
      "Index(['A', 'B', 'C', 'D'], dtype='object')\n"
     ]
    }
   ],
   "source": [
    "# Viewing Data\n",
    "print(df.head())\n",
    "print(df.tail(3))\n",
    "print(df.index)\n",
    "print(df.columns)"
   ],
   "metadata": {
    "collapsed": false,
    "pycharm": {
     "name": "#%%\n"
    }
   }
  },
  {
   "cell_type": "code",
   "execution_count": 27,
   "outputs": [
    {
     "name": "stdout",
     "output_type": "stream",
     "text": [
      "Data Frame:                    A         B         C         D\n",
      "2013-01-01 -0.684105 -0.446083 -0.193273 -0.218899\n",
      "2013-01-02  1.701952 -1.578945  1.193032  0.950053\n",
      "2013-01-03 -0.874834 -0.108115 -2.488084 -2.246679\n",
      "2013-01-04  0.203930  1.117985 -1.536360  2.046269\n",
      "2013-01-05 -0.945537 -0.236682  0.150494  0.044839\n",
      "2013-01-06 -0.476841  0.026294  0.129915 -0.411100\n",
      "Converted to NumPy: [[-0.68410509 -0.44608317 -0.19327349 -0.21889892]\n",
      " [ 1.70195206 -1.57894536  1.19303209  0.95005294]\n",
      " [-0.87483448 -0.1081146  -2.48808363 -2.2466792 ]\n",
      " [ 0.20392989  1.1179845  -1.53635957  2.04626947]\n",
      " [-0.94553679 -0.23668174  0.15049407  0.04483873]\n",
      " [-0.47684083  0.0262937   0.12991523 -0.41109955]]\n"
     ]
    }
   ],
   "source": [
    "# Converting data frame to numpy\n",
    "print('Data Frame:',df)\n",
    "print('Converted to NumPy:',df.to_numpy())"
   ],
   "metadata": {
    "collapsed": false,
    "pycharm": {
     "name": "#%%\n"
    }
   }
  },
  {
   "cell_type": "code",
   "execution_count": 31,
   "outputs": [
    {
     "name": "stdout",
     "output_type": "stream",
     "text": [
      "Summary:               A         B         C         D\n",
      "count  6.000000  6.000000  6.000000  6.000000\n",
      "mean  -0.179239 -0.204258 -0.457379  0.027414\n",
      "std    1.009972  0.867182  1.326348  1.438875\n",
      "min   -0.945537 -1.578945 -2.488084 -2.246679\n",
      "25%   -0.827152 -0.393733 -1.200588 -0.363049\n",
      "50%   -0.580473 -0.172398 -0.031679 -0.087030\n",
      "75%    0.033737 -0.007308  0.145349  0.723749\n",
      "max    1.701952  1.117985  1.193032  2.046269\n",
      "Transpose Data Frame:    2013-01-01  2013-01-02  2013-01-03  2013-01-04  2013-01-05  2013-01-06\n",
      "A   -0.684105    1.701952   -0.874834    0.203930   -0.945537   -0.476841\n",
      "B   -0.446083   -1.578945   -0.108115    1.117985   -0.236682    0.026294\n",
      "C   -0.193273    1.193032   -2.488084   -1.536360    0.150494    0.129915\n",
      "D   -0.218899    0.950053   -2.246679    2.046269    0.044839   -0.411100\n",
      "Sort by an axis:                    D         C         B         A\n",
      "2013-01-01 -0.218899 -0.193273 -0.446083 -0.684105\n",
      "2013-01-02  0.950053  1.193032 -1.578945  1.701952\n",
      "2013-01-03 -2.246679 -2.488084 -0.108115 -0.874834\n",
      "2013-01-04  2.046269 -1.536360  1.117985  0.203930\n",
      "2013-01-05  0.044839  0.150494 -0.236682 -0.945537\n",
      "2013-01-06 -0.411100  0.129915  0.026294 -0.476841\n",
      "Sorting by column B:                    A         B         C         D\n",
      "2013-01-02  1.701952 -1.578945  1.193032  0.950053\n",
      "2013-01-01 -0.684105 -0.446083 -0.193273 -0.218899\n",
      "2013-01-05 -0.945537 -0.236682  0.150494  0.044839\n",
      "2013-01-03 -0.874834 -0.108115 -2.488084 -2.246679\n",
      "2013-01-06 -0.476841  0.026294  0.129915 -0.411100\n",
      "2013-01-04  0.203930  1.117985 -1.536360  2.046269\n"
     ]
    }
   ],
   "source": [
    "# Statistical Summary\n",
    "print('Summary:',df.describe())\n",
    "# Transposing data\n",
    "print('Transpose Data Frame:',df.T)\n",
    "# Sorting by axis\n",
    "print('Sort by an axis:',df.sort_index(axis=1, ascending=False))\n",
    "# Sorting by values\n",
    "print('Sorting by column B:',df.sort_values(by='B'))"
   ],
   "metadata": {
    "collapsed": false,
    "pycharm": {
     "name": "#%%\n"
    }
   }
  },
  {
   "cell_type": "code",
   "execution_count": 35,
   "outputs": [
    {
     "name": "stdout",
     "output_type": "stream",
     "text": [
      "Select a column 2013-01-01   -0.684105\n",
      "2013-01-02    1.701952\n",
      "2013-01-03   -0.874834\n",
      "2013-01-04    0.203930\n",
      "2013-01-05   -0.945537\n",
      "2013-01-06   -0.476841\n",
      "Freq: D, Name: A, dtype: float64\n",
      "0 to 3 row position:                    A         B         C         D\n",
      "2013-01-01 -0.684105 -0.446083 -0.193273 -0.218899\n",
      "2013-01-02  1.701952 -1.578945  1.193032  0.950053\n",
      "2013-01-03 -0.874834 -0.108115 -2.488084 -2.246679\n",
      "Sling rows with Index:                    A         B         C         D\n",
      "2013-01-02  1.701952 -1.578945  1.193032  0.950053\n",
      "2013-01-03 -0.874834 -0.108115 -2.488084 -2.246679\n",
      "2013-01-04  0.203930  1.117985 -1.536360  2.046269\n",
      "Select based on labels: A   -0.684105\n",
      "B   -0.446083\n",
      "C   -0.193273\n",
      "D   -0.218899\n",
      "Name: 2013-01-01 00:00:00, dtype: float64\n",
      "Select on multi-axis label:                    A         B\n",
      "2013-01-01 -0.684105 -0.446083\n",
      "2013-01-02  1.701952 -1.578945\n",
      "2013-01-03 -0.874834 -0.108115\n",
      "2013-01-04  0.203930  1.117985\n",
      "2013-01-05 -0.945537 -0.236682\n",
      "2013-01-06 -0.476841  0.026294\n"
     ]
    }
   ],
   "source": [
    "# Selection\n",
    "print('Select a column', df['A'])\n",
    "# Slicing rows\n",
    "print('0 to 3 row position:', df[0:3])\n",
    "print('Sling rows with Index:', df['20130102':'20130104'])\n",
    "# Selection by label\n",
    "print('Select based on labels:', df.loc[dates[0]])\n",
    "print('Select on multi-axis label:', df.loc[:, ['A','B']])\n"
   ],
   "metadata": {
    "collapsed": false,
    "pycharm": {
     "name": "#%%\n"
    }
   }
  }
 ],
 "metadata": {
  "kernelspec": {
   "name": "python38264bit5c21451e1d864d53a27be528a149d476",
   "language": "python",
   "display_name": "Python 3.8.2 64-bit"
  },
  "language_info": {
   "codemirror_mode": {
    "name": "ipython",
    "version": 2
   },
   "file_extension": ".py",
   "mimetype": "text/x-python",
   "name": "python",
   "nbconvert_exporter": "python",
   "pygments_lexer": "ipython2",
   "version": "2.7.6"
  }
 },
 "nbformat": 4,
 "nbformat_minor": 0
}